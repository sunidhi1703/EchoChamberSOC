{
  "cells": [
    {
      "cell_type": "code",
      "execution_count": null,
      "metadata": {
        "id": "RVkDvYSvgiSd"
      },
      "outputs": [],
      "source": [
        "# Step 1: Parse movie_lines.txt\n",
        "id2line = {}\n",
        "with open(\"movie_lines.txt\", encoding=\"ISO-8859-1\") as f:  # You can try changing this and see what changes in the response you get :)\n",
        "    for line in f:\n",
        "        parts = line.strip().split(\" +++$+++ \")\n",
        "        if len(parts) == 5:\n",
        "            line_id = parts[0]\n",
        "            text = parts[4]\n",
        "            id2line[line_id] = text\n",
        "\n",
        "# Step 2: Parse movie_conversations.txt into a list of conversations\n",
        "conversations = []\n",
        "with open(\"movie_conversations.txt\", encoding=\"ISO-8859-1\") as f:  # Make sure to keet encodings consistent\n",
        "    for line in f:\n",
        "        parts = line.strip().split(\" +++$+++ \")\n",
        "        if len(parts) == 4:\n",
        "            try:\n",
        "                utterance_ids = eval(parts[3])  # Converts string list to actual list\n",
        "                conversations.append(utterance_ids)\n",
        "            except Exception as e:\n",
        "                print(f\"Skipping line due to eval error: {e}\")\n",
        "\n",
        "# Step 3: Build input-output pairs (prompt-response)\n",
        "pairs = []\n",
        "for conv in conversations:\n",
        "    for i in range(len(conv) - 1):\n",
        "        if conv[i] in id2line and conv[i+1] in id2line:\n",
        "            input_line = id2line[conv[i]].strip()\n",
        "            target_line = id2line[conv[i+1]].strip()\n",
        "            if input_line and target_line:  # skip empty lines\n",
        "                pairs.append((input_line, target_line))\n",
        "\n",
        "\n",
        "print(f\"Loaded {len(pairs)} dialog pairs.\")\n"
      ]
    },
    {
      "cell_type": "code",
      "execution_count": null,
      "metadata": {
        "id": "LoUGVKxV1-2-"
      },
      "outputs": [],
      "source": [
        "import random\n",
        "\n",
        "# Parameters\n",
        "SAMPLE_SIZE = 5_000      # how many pairs you want, you can change it\n",
        "RANDOM_SEED = 42          # set this if you need deterministic sampling\n",
        "\n",
        "# Draw the sample\n",
        "random.seed(RANDOM_SEED)          # comment this out for a fresh shuffle each run\n",
        "sample_pairs = random.sample(pairs, SAMPLE_SIZE)\n",
        "\n",
        "print(f\"Sampled {len(sample_pairs)} pairs.\")"
      ]
    },
    {
      "cell_type": "code",
      "execution_count": null,
      "metadata": {
        "id": "xR0QvHAGgiQF"
      },
      "outputs": [],
      "source": [
        "from datasets import Dataset\n",
        "\n",
        "# Create a Hugging Face Dataset from your list of (input, output) pairs\n",
        "data = [{\"input\": q, \"output\": a} for q, a in sample_pairs]\n",
        "hf_dataset = Dataset.from_list(data)\n",
        "\n",
        "print(hf_dataset[0])  # sanity check\n"
      ]
    },
    {
      "cell_type": "code",
      "execution_count": null,
      "metadata": {
        "id": "arRObdRGgiNe"
      },
      "outputs": [],
      "source": [
        "# If not installed, uncomment the code and install\n",
        "# !pip install transformers\n"
      ]
    },
    {
      "cell_type": "code",
      "execution_count": null,
      "metadata": {
        "id": "beAyovsLgiKx"
      },
      "outputs": [],
      "source": [
        "from transformers import AutoTokenizer\n",
        "\n",
        "tokenizer = AutoTokenizer.from_pretrained(\"microsoft/DialoGPT-small\")\n",
        "tokenizer.pad_token = tokenizer.eos_token  # Fix the pad token issue\n",
        "\n",
        "\n",
        "def tokenize(example):\n",
        "    input_text = example[\"input\"] + tokenizer.eos_token\n",
        "    output_text = example[\"output\"] + tokenizer.eos_token\n",
        "    full_text = input_text + output_text\n",
        "    tokens = tokenizer(full_text, truncation=True, padding=\"max_length\", max_length=128)\n",
        "    tokens[\"labels\"] = tokens[\"input_ids\"].copy()  # Causal language modeling\n",
        "    return tokens\n",
        "\n",
        "tokenized_dataset = hf_dataset.map(tokenize, batched=False)\n"
      ]
    },
    {
      "cell_type": "code",
      "execution_count": null,
      "metadata": {
        "id": "nGH4cja3jpKJ"
      },
      "outputs": [],
      "source": [
        "# If error persists, uncomment this code, execute it and run below snippet again\n",
        "# !pip install -U transformers\n"
      ]
    },
    {
      "cell_type": "code",
      "execution_count": null,
      "metadata": {
        "id": "521e8a8a"
      },
      "outputs": [],
      "source": [
        "import os\n",
        "from transformers import (\n",
        "    AutoModelForCausalLM,\n",
        "    AutoTokenizer,\n",
        "    TrainingArguments,\n",
        "    Trainer,\n",
        ")\n",
        "# Need to import get_last_checkpoint from the trainer_utils module\n",
        "from transformers.trainer_utils import get_last_checkpoint\n",
        "\n",
        "\n",
        "# 1. Detect an existing checkpoint (if any)\n",
        "\n",
        "output_dir = \"./dialogpt-finetuned\"\n",
        "last_ckpt  = get_last_checkpoint(output_dir) if os.path.isdir(output_dir) else None\n",
        "if last_ckpt:\n",
        "    print(f\"  Found checkpoint at: {last_ckpt} – resuming from there.\")\n",
        "\n",
        "\n",
        "# 2. Load model (fresh or from checkpoint)\n",
        "\n",
        "model_name_or_path = last_ckpt or \"microsoft/DialoGPT-medium\"\n",
        "model = AutoModelForCausalLM.from_pretrained(model_name_or_path)\n",
        "\n",
        "# (Optional but tidy) – make sure pad token is set\n",
        "\n",
        "tokenizer = AutoTokenizer.from_pretrained(\"microsoft/DialoGPT-medium\")\n",
        "tokenizer.pad_token = tokenizer.eos_token\n",
        "\n",
        "\n",
        "training_args = TrainingArguments(\n",
        "    output_dir           = output_dir,\n",
        "    per_device_train_batch_size = 4,\n",
        "    num_train_epochs     = 2,\n",
        "    dataloader_num_workers = 4,\n",
        "\n",
        "    # logging & checkpointing\n",
        "    logging_strategy     = \"steps\",\n",
        "    logging_steps        = 200,\n",
        "    save_strategy        = \"steps\",\n",
        "    save_steps           = 500,\n",
        "    save_total_limit     = 2,\n",
        "\n",
        "    # misc\n",
        "    fp16                 = True,     # comment out if GPU doesn’t support fp16\n",
        "    report_to            = \"none\",   # no WandB/HF Hub logging\n",
        ")\n",
        "\n",
        "\n",
        "# 4. Trainer\n",
        "trainer = Trainer(\n",
        "    model         = model,\n",
        "    args          = training_args,\n",
        "    train_dataset = tokenized_dataset,\n",
        "    tokenizer     = tokenizer,  # keeps pad/eos alignment neat\n",
        ")\n",
        "\n",
        "\n",
        "# 5. Train – resume if we have a checkpoint\n",
        "trainer.train(resume_from_checkpoint=last_ckpt)"
      ]
    },
    {
      "cell_type": "code",
      "execution_count": null,
      "metadata": {
        "id": "YmtXjvg-wJY_"
      },
      "outputs": [],
      "source": [
        "# Saving the freshly trained moel and its tokeniser\n",
        "trainer.save_model(\"./dialogpt-finetuned/final\")\n",
        "tokenizer.save_pretrained(\"./dialogpt-finetuned/final\")\n"
      ]
    },
    {
      "cell_type": "code",
      "execution_count": null,
      "metadata": {
        "id": "lXFoaAxSw2eb"
      },
      "outputs": [],
      "source": [
        "from transformers import AutoModelForCausalLM, AutoTokenizer\n",
        "import torch\n",
        "\n",
        "# Load the fine-tuned model\n",
        "model_path = \"./dialogpt-finetuned/final\"\n",
        "tokenizer = AutoTokenizer.from_pretrained(model_path)\n",
        "model     = AutoModelForCausalLM.from_pretrained(model_path)\n",
        "model.eval()\n",
        "\n",
        "# Chat prompt\n",
        "chat_history = []\n",
        "while True:\n",
        "    user_input = input(\"You: \")\n",
        "    if user_input.lower() in [\"exit\", \"quit\"]: break\n",
        "\n",
        "    new_input_ids = tokenizer.encode(user_input + tokenizer.eos_token, return_tensors='pt')\n",
        "    bot_input_ids = torch.cat(chat_history + [new_input_ids], dim=-1) if chat_history else new_input_ids\n",
        "\n",
        "    output_ids = model.generate(\n",
        "        bot_input_ids,\n",
        "        max_length=1000,\n",
        "        pad_token_id=tokenizer.eos_token_id,\n",
        "        do_sample=True,\n",
        "        top_k=50,\n",
        "        top_p=0.95,\n",
        "        temperature=0.9,\n",
        "    )\n",
        "\n",
        "    response = tokenizer.decode(output_ids[:, bot_input_ids.shape[-1]:][0], skip_special_tokens=True)\n",
        "    print(f\"Bot: {response}\")\n",
        "    chat_history.append(new_input_ids)\n"
      ]
    },
    {
      "cell_type": "markdown",
      "source": [
        "# **This is the snippet to use Dialogpt-medium, for those who are stuck try running this cell first to get a clearer idea about how to proceed and code**"
      ],
      "metadata": {
        "id": "EexPBFKZ8f_Y"
      }
    },
    {
      "cell_type": "code",
      "execution_count": null,
      "metadata": {
        "id": "9KT2Q0I4x0fR"
      },
      "outputs": [],
      "source": [
        "from transformers import AutoModelForCausalLM, AutoTokenizer\n",
        "import torch\n",
        "\n",
        "tokenizer = AutoTokenizer.from_pretrained(\"microsoft/DialoGPT-medium\")\n",
        "model     = AutoModelForCausalLM.from_pretrained(\"microsoft/DialoGPT-medium\").eval()\n",
        "\n",
        "chat_history = []\n",
        "\n",
        "while True:\n",
        "    user_input = input(\"You: \")\n",
        "    if user_input.lower() in [\"exit\", \"quit\"]: break\n",
        "\n",
        "    new_ids = tokenizer.encode(user_input + tokenizer.eos_token, return_tensors=\"pt\")\n",
        "    bot_ids = torch.cat(chat_history + [new_ids], dim=-1) if chat_history else new_ids\n",
        "\n",
        "    generated_ids = model.generate(\n",
        "        bot_ids,\n",
        "        max_length=bot_ids.shape[-1] + 100,\n",
        "        pad_token_id=tokenizer.eos_token_id,\n",
        "        do_sample=True,\n",
        "        temperature=0.7,\n",
        "        top_k=40,\n",
        "        top_p=0.9,\n",
        "    )\n",
        "\n",
        "    reply = tokenizer.decode(generated_ids[:, bot_ids.shape[-1]:][0],\n",
        "                             skip_special_tokens=True)\n",
        "    print(f\"Bot: {reply}\")\n",
        "    chat_history.append(new_ids)\n"
      ]
    },
    {
      "cell_type": "code",
      "execution_count": 13,
      "metadata": {
        "id": "pF9bGXKR7sZZ",
        "colab": {
          "base_uri": "https://localhost:8080/"
        },
        "outputId": "d6ccec19-9f69-4d30-c450-087dd4332cd8"
      },
      "outputs": [
        {
          "output_type": "stream",
          "name": "stdout",
          "text": [
            "Requirement already satisfied: nbstripout in /usr/local/lib/python3.11/dist-packages (0.8.1)\n",
            "Requirement already satisfied: nbformat in /usr/local/lib/python3.11/dist-packages (from nbstripout) (5.10.4)\n",
            "Requirement already satisfied: fastjsonschema>=2.15 in /usr/local/lib/python3.11/dist-packages (from nbformat->nbstripout) (2.21.1)\n",
            "Requirement already satisfied: jsonschema>=2.6 in /usr/local/lib/python3.11/dist-packages (from nbformat->nbstripout) (4.25.0)\n",
            "Requirement already satisfied: jupyter-core!=5.0.*,>=4.12 in /usr/local/lib/python3.11/dist-packages (from nbformat->nbstripout) (5.8.1)\n",
            "Requirement already satisfied: traitlets>=5.1 in /usr/local/lib/python3.11/dist-packages (from nbformat->nbstripout) (5.7.1)\n",
            "Requirement already satisfied: attrs>=22.2.0 in /usr/local/lib/python3.11/dist-packages (from jsonschema>=2.6->nbformat->nbstripout) (25.3.0)\n",
            "Requirement already satisfied: jsonschema-specifications>=2023.03.6 in /usr/local/lib/python3.11/dist-packages (from jsonschema>=2.6->nbformat->nbstripout) (2025.4.1)\n",
            "Requirement already satisfied: referencing>=0.28.4 in /usr/local/lib/python3.11/dist-packages (from jsonschema>=2.6->nbformat->nbstripout) (0.36.2)\n",
            "Requirement already satisfied: rpds-py>=0.7.1 in /usr/local/lib/python3.11/dist-packages (from jsonschema>=2.6->nbformat->nbstripout) (0.26.0)\n",
            "Requirement already satisfied: platformdirs>=2.5 in /usr/local/lib/python3.11/dist-packages (from jupyter-core!=5.0.*,>=4.12->nbformat->nbstripout) (4.3.8)\n",
            "Requirement already satisfied: typing-extensions>=4.4.0 in /usr/local/lib/python3.11/dist-packages (from referencing>=0.28.4->jsonschema>=2.6->nbformat->nbstripout) (4.14.1)\n",
            "Could not strip 'echo_chamber_final.ipynb': file not found\n"
          ]
        }
      ],
      "source": [
        "!pip install nbstripout\n",
        "!nbstripout echo_chamber_final.ipynb"
      ]
    },
    {
      "cell_type": "code",
      "execution_count": null,
      "metadata": {
        "id": "HzpUA1Qy7sX9"
      },
      "outputs": [],
      "source": []
    },
    {
      "cell_type": "code",
      "execution_count": null,
      "metadata": {
        "id": "ZaG2_0bI7sJc"
      },
      "outputs": [],
      "source": []
    }
  ],
  "metadata": {
    "accelerator": "GPU",
    "colab": {
      "gpuType": "T4",
      "provenance": []
    },
    "kernelspec": {
      "display_name": "Python 3",
      "name": "python3"
    },
    "language_info": {
      "name": "python"
    }
  },
  "nbformat": 4,
  "nbformat_minor": 0
}