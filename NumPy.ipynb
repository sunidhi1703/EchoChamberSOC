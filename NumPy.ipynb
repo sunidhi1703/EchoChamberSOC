{
  "nbformat": 4,
  "nbformat_minor": 0,
  "metadata": {
    "colab": {
      "provenance": []
    },
    "kernelspec": {
      "name": "python3",
      "display_name": "Python 3"
    },
    "language_info": {
      "name": "python"
    }
  },
  "cells": [
    {
      "cell_type": "code",
      "source": [
        "import numpy as np\n",
        "\n",
        "# 1D array\n",
        "a = np.array([1, 2, 3, 4, 5])\n",
        "print(a)\n",
        "print(a.shape)\n",
        "\n",
        "# 2D array\n",
        "b = np.array([[1, 2, 3],\n",
        "              [4, 5, 6]])\n",
        "print(b.shape)\n"
      ],
      "metadata": {
        "colab": {
          "base_uri": "https://localhost:8080/"
        },
        "id": "PEapZbc2eodx",
        "outputId": "dbbcadfe-61d3-4758-cc49-0b94d8a6cb42"
      },
      "execution_count": 2,
      "outputs": [
        {
          "output_type": "stream",
          "name": "stdout",
          "text": [
            "[1 2 3 4 5]\n",
            "(5,)\n",
            "(2, 3)\n"
          ]
        }
      ]
    },
    {
      "cell_type": "code",
      "source": [
        "# 1D array with values from 0 to 11\n",
        "c = np.arange(12)\n",
        "\n",
        "c2 = c.reshape((3, 4))\n",
        "\n",
        "# Print the new shape and array\n",
        "print(c2.shape)\n",
        "print(c2)\n"
      ],
      "metadata": {
        "colab": {
          "base_uri": "https://localhost:8080/"
        },
        "id": "9D8QuNUos14_",
        "outputId": "3eee65d7-03f2-4614-e64f-827b95a1bd14"
      },
      "execution_count": 3,
      "outputs": [
        {
          "output_type": "stream",
          "name": "stdout",
          "text": [
            "(3, 4)\n",
            "[[ 0  1  2  3]\n",
            " [ 4  5  6  7]\n",
            " [ 8  9 10 11]]\n"
          ]
        }
      ]
    },
    {
      "cell_type": "code",
      "source": [
        "# Access a single element from the 2D array\n",
        "print(c2[1, 2])\n",
        "\n",
        "# Extract an entire row and column\n",
        "row0 = c2[0, :]\n",
        "col2 = c2[:, 2]\n",
        "print(row0)\n",
        "print(col2)\n",
        "\n",
        "# Use boolean indexing to filter even numbers\n",
        "mask = c2 % 2 == 0\n",
        "even = c2[mask]\n",
        "print(even)\n"
      ],
      "metadata": {
        "colab": {
          "base_uri": "https://localhost:8080/"
        },
        "id": "dF4siVCvs_XF",
        "outputId": "536be5b7-e2ff-4a44-baa0-7c4bd7836517"
      },
      "execution_count": 4,
      "outputs": [
        {
          "output_type": "stream",
          "name": "stdout",
          "text": [
            "6\n",
            "[0 1 2 3]\n",
            "[ 2  6 10]\n",
            "[ 0  2  4  6  8 10]\n"
          ]
        }
      ]
    },
    {
      "cell_type": "code",
      "source": [
        "# Create a 2D array\n",
        "d = np.array([[1, 2, 3],\n",
        "              [4, 5, 6]])\n",
        "\n",
        "# Multiply every element by 2\n",
        "print(d * 2)\n",
        "\n",
        "# Broadcasting\n",
        "print(d + np.array([10, 20, 30]))\n",
        "\n",
        "# Perform matrix multiplication with the transpose\n",
        "mat = d.dot(d.T)\n",
        "print(mat)\n"
      ],
      "metadata": {
        "colab": {
          "base_uri": "https://localhost:8080/"
        },
        "id": "-zhLBdQTtGsJ",
        "outputId": "486d7281-48af-4a00-e9f5-fdf7ee3e5755"
      },
      "execution_count": 5,
      "outputs": [
        {
          "output_type": "stream",
          "name": "stdout",
          "text": [
            "[[ 2  4  6]\n",
            " [ 8 10 12]]\n",
            "[[11 22 33]\n",
            " [14 25 36]]\n",
            "[[14 32]\n",
            " [32 77]]\n"
          ]
        }
      ]
    },
    {
      "cell_type": "code",
      "source": [
        "# Aggregates and Axis Operations\n",
        "print(np.sum(d))\n",
        "print(np.mean(d, axis=0))\n",
        "print(np.std(d, axis=1))\n"
      ],
      "metadata": {
        "colab": {
          "base_uri": "https://localhost:8080/"
        },
        "id": "qD4J9kV6tP1O",
        "outputId": "4c7d913a-67e2-40d7-b29a-daadc1fa3a50"
      },
      "execution_count": 6,
      "outputs": [
        {
          "output_type": "stream",
          "name": "stdout",
          "text": [
            "21\n",
            "[2.5 3.5 4.5]\n",
            "[0.81649658 0.81649658]\n"
          ]
        }
      ]
    }
  ]
}