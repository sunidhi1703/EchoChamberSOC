{
  "nbformat": 4,
  "nbformat_minor": 0,
  "metadata": {
    "colab": {
      "provenance": [],
      "authorship_tag": "ABX9TyOKwS+5CmZO2RMJpCBl+bfD",
      "include_colab_link": true
    },
    "kernelspec": {
      "name": "python3",
      "display_name": "Python 3"
    },
    "language_info": {
      "name": "python"
    }
  },
  "cells": [
    {
      "cell_type": "markdown",
      "metadata": {
        "id": "view-in-github",
        "colab_type": "text"
      },
      "source": [
        "<a href=\"https://colab.research.google.com/github/sunidhi1703/EchoChamberSOC/blob/main/Pandas.ipynb\" target=\"_parent\"><img src=\"https://colab.research.google.com/assets/colab-badge.svg\" alt=\"Open In Colab\"/></a>"
      ]
    },
    {
      "cell_type": "code",
      "execution_count": 1,
      "metadata": {
        "colab": {
          "base_uri": "https://localhost:8080/",
          "height": 73
        },
        "id": "Kr6Eg5R4t1ky",
        "outputId": "d8b357e7-47e6-4721-c089-9c86c296262d"
      },
      "outputs": [
        {
          "output_type": "display_data",
          "data": {
            "text/plain": [
              "<IPython.core.display.HTML object>"
            ],
            "text/html": [
              "\n",
              "     <input type=\"file\" id=\"files-775ef392-a576-4c6c-a717-077deebae6bb\" name=\"files[]\" multiple disabled\n",
              "        style=\"border:none\" />\n",
              "     <output id=\"result-775ef392-a576-4c6c-a717-077deebae6bb\">\n",
              "      Upload widget is only available when the cell has been executed in the\n",
              "      current browser session. Please rerun this cell to enable.\n",
              "      </output>\n",
              "      <script>// Copyright 2017 Google LLC\n",
              "//\n",
              "// Licensed under the Apache License, Version 2.0 (the \"License\");\n",
              "// you may not use this file except in compliance with the License.\n",
              "// You may obtain a copy of the License at\n",
              "//\n",
              "//      http://www.apache.org/licenses/LICENSE-2.0\n",
              "//\n",
              "// Unless required by applicable law or agreed to in writing, software\n",
              "// distributed under the License is distributed on an \"AS IS\" BASIS,\n",
              "// WITHOUT WARRANTIES OR CONDITIONS OF ANY KIND, either express or implied.\n",
              "// See the License for the specific language governing permissions and\n",
              "// limitations under the License.\n",
              "\n",
              "/**\n",
              " * @fileoverview Helpers for google.colab Python module.\n",
              " */\n",
              "(function(scope) {\n",
              "function span(text, styleAttributes = {}) {\n",
              "  const element = document.createElement('span');\n",
              "  element.textContent = text;\n",
              "  for (const key of Object.keys(styleAttributes)) {\n",
              "    element.style[key] = styleAttributes[key];\n",
              "  }\n",
              "  return element;\n",
              "}\n",
              "\n",
              "// Max number of bytes which will be uploaded at a time.\n",
              "const MAX_PAYLOAD_SIZE = 100 * 1024;\n",
              "\n",
              "function _uploadFiles(inputId, outputId) {\n",
              "  const steps = uploadFilesStep(inputId, outputId);\n",
              "  const outputElement = document.getElementById(outputId);\n",
              "  // Cache steps on the outputElement to make it available for the next call\n",
              "  // to uploadFilesContinue from Python.\n",
              "  outputElement.steps = steps;\n",
              "\n",
              "  return _uploadFilesContinue(outputId);\n",
              "}\n",
              "\n",
              "// This is roughly an async generator (not supported in the browser yet),\n",
              "// where there are multiple asynchronous steps and the Python side is going\n",
              "// to poll for completion of each step.\n",
              "// This uses a Promise to block the python side on completion of each step,\n",
              "// then passes the result of the previous step as the input to the next step.\n",
              "function _uploadFilesContinue(outputId) {\n",
              "  const outputElement = document.getElementById(outputId);\n",
              "  const steps = outputElement.steps;\n",
              "\n",
              "  const next = steps.next(outputElement.lastPromiseValue);\n",
              "  return Promise.resolve(next.value.promise).then((value) => {\n",
              "    // Cache the last promise value to make it available to the next\n",
              "    // step of the generator.\n",
              "    outputElement.lastPromiseValue = value;\n",
              "    return next.value.response;\n",
              "  });\n",
              "}\n",
              "\n",
              "/**\n",
              " * Generator function which is called between each async step of the upload\n",
              " * process.\n",
              " * @param {string} inputId Element ID of the input file picker element.\n",
              " * @param {string} outputId Element ID of the output display.\n",
              " * @return {!Iterable<!Object>} Iterable of next steps.\n",
              " */\n",
              "function* uploadFilesStep(inputId, outputId) {\n",
              "  const inputElement = document.getElementById(inputId);\n",
              "  inputElement.disabled = false;\n",
              "\n",
              "  const outputElement = document.getElementById(outputId);\n",
              "  outputElement.innerHTML = '';\n",
              "\n",
              "  const pickedPromise = new Promise((resolve) => {\n",
              "    inputElement.addEventListener('change', (e) => {\n",
              "      resolve(e.target.files);\n",
              "    });\n",
              "  });\n",
              "\n",
              "  const cancel = document.createElement('button');\n",
              "  inputElement.parentElement.appendChild(cancel);\n",
              "  cancel.textContent = 'Cancel upload';\n",
              "  const cancelPromise = new Promise((resolve) => {\n",
              "    cancel.onclick = () => {\n",
              "      resolve(null);\n",
              "    };\n",
              "  });\n",
              "\n",
              "  // Wait for the user to pick the files.\n",
              "  const files = yield {\n",
              "    promise: Promise.race([pickedPromise, cancelPromise]),\n",
              "    response: {\n",
              "      action: 'starting',\n",
              "    }\n",
              "  };\n",
              "\n",
              "  cancel.remove();\n",
              "\n",
              "  // Disable the input element since further picks are not allowed.\n",
              "  inputElement.disabled = true;\n",
              "\n",
              "  if (!files) {\n",
              "    return {\n",
              "      response: {\n",
              "        action: 'complete',\n",
              "      }\n",
              "    };\n",
              "  }\n",
              "\n",
              "  for (const file of files) {\n",
              "    const li = document.createElement('li');\n",
              "    li.append(span(file.name, {fontWeight: 'bold'}));\n",
              "    li.append(span(\n",
              "        `(${file.type || 'n/a'}) - ${file.size} bytes, ` +\n",
              "        `last modified: ${\n",
              "            file.lastModifiedDate ? file.lastModifiedDate.toLocaleDateString() :\n",
              "                                    'n/a'} - `));\n",
              "    const percent = span('0% done');\n",
              "    li.appendChild(percent);\n",
              "\n",
              "    outputElement.appendChild(li);\n",
              "\n",
              "    const fileDataPromise = new Promise((resolve) => {\n",
              "      const reader = new FileReader();\n",
              "      reader.onload = (e) => {\n",
              "        resolve(e.target.result);\n",
              "      };\n",
              "      reader.readAsArrayBuffer(file);\n",
              "    });\n",
              "    // Wait for the data to be ready.\n",
              "    let fileData = yield {\n",
              "      promise: fileDataPromise,\n",
              "      response: {\n",
              "        action: 'continue',\n",
              "      }\n",
              "    };\n",
              "\n",
              "    // Use a chunked sending to avoid message size limits. See b/62115660.\n",
              "    let position = 0;\n",
              "    do {\n",
              "      const length = Math.min(fileData.byteLength - position, MAX_PAYLOAD_SIZE);\n",
              "      const chunk = new Uint8Array(fileData, position, length);\n",
              "      position += length;\n",
              "\n",
              "      const base64 = btoa(String.fromCharCode.apply(null, chunk));\n",
              "      yield {\n",
              "        response: {\n",
              "          action: 'append',\n",
              "          file: file.name,\n",
              "          data: base64,\n",
              "        },\n",
              "      };\n",
              "\n",
              "      let percentDone = fileData.byteLength === 0 ?\n",
              "          100 :\n",
              "          Math.round((position / fileData.byteLength) * 100);\n",
              "      percent.textContent = `${percentDone}% done`;\n",
              "\n",
              "    } while (position < fileData.byteLength);\n",
              "  }\n",
              "\n",
              "  // All done.\n",
              "  yield {\n",
              "    response: {\n",
              "      action: 'complete',\n",
              "    }\n",
              "  };\n",
              "}\n",
              "\n",
              "scope.google = scope.google || {};\n",
              "scope.google.colab = scope.google.colab || {};\n",
              "scope.google.colab._files = {\n",
              "  _uploadFiles,\n",
              "  _uploadFilesContinue,\n",
              "};\n",
              "})(self);\n",
              "</script> "
            ]
          },
          "metadata": {}
        },
        {
          "output_type": "stream",
          "name": "stdout",
          "text": [
            "Saving nba.csv to nba.csv\n"
          ]
        }
      ],
      "source": [
        "from google.colab import files\n",
        "uploaded = files.upload()\n"
      ]
    },
    {
      "cell_type": "code",
      "source": [
        "import pandas as pd\n",
        "\n",
        "# Create DataFrame from a Python dictionary\n",
        "data = {'Name': ['Tom', 'Linda', 'Sara', 'James'],\n",
        "        'Age': [28, 34, 29, 45],\n",
        "        'City': ['Bangalore', 'Mumbai', 'Chennai', 'Delhi']}\n",
        "df_dict = pd.DataFrame(data)\n",
        "\n",
        "# Create DataFrame from a list\n",
        "lst = [['Apple', 10], ['Banana', 20], ['Cherry', 15]]\n",
        "df_list = pd.DataFrame(lst, columns=['Fruit', 'Quantity'])\n",
        "\n",
        "print(df_dict)\n",
        "print(df_list)\n"
      ],
      "metadata": {
        "colab": {
          "base_uri": "https://localhost:8080/"
        },
        "id": "5lAM-iOpvj0W",
        "outputId": "c40d8088-4015-4fcd-efa2-1be957846a4e"
      },
      "execution_count": 2,
      "outputs": [
        {
          "output_type": "stream",
          "name": "stdout",
          "text": [
            "    Name  Age       City\n",
            "0    Tom   28  Bangalore\n",
            "1  Linda   34     Mumbai\n",
            "2   Sara   29    Chennai\n",
            "3  James   45      Delhi\n",
            "    Fruit  Quantity\n",
            "0   Apple        10\n",
            "1  Banana        20\n",
            "2  Cherry        15\n"
          ]
        }
      ]
    },
    {
      "cell_type": "code",
      "source": [
        "# Sample DataFrame for grouping\n",
        "df_sales = pd.DataFrame({\n",
        "    'Store': ['X', 'Y', 'X', 'Z', 'Y', 'Z'],\n",
        "    'Sales': [200, 340, 150, 400, 220, 180]\n",
        "})\n",
        "\n",
        "# Group by 'Store' and compute total and average sales\n",
        "grouped = df_sales.groupby('Store')['Sales'].agg(['sum', 'mean', 'count'])\n",
        "\n",
        "print(grouped)\n"
      ],
      "metadata": {
        "colab": {
          "base_uri": "https://localhost:8080/"
        },
        "id": "qru84JtzwzTl",
        "outputId": "60173a17-9876-434a-994d-6a6f9621803c"
      },
      "execution_count": 10,
      "outputs": [
        {
          "output_type": "stream",
          "name": "stdout",
          "text": [
            "       sum   mean  count\n",
            "Store                   \n",
            "X      350  175.0      2\n",
            "Y      560  280.0      2\n",
            "Z      580  290.0      2\n"
          ]
        }
      ]
    },
    {
      "cell_type": "code",
      "source": [
        "# Read uploaded CSV\n",
        "df = pd.read_csv('nba.csv')\n",
        "\n",
        "# Display the first few rows\n",
        "print(df.head())\n",
        "print(df.info())\n",
        "print(df.describe())\n"
      ],
      "metadata": {
        "colab": {
          "base_uri": "https://localhost:8080/"
        },
        "id": "9zqxdD4vvlZ7",
        "outputId": "b1477ec1-34a2-46e3-e470-e2d7b2c0376d"
      },
      "execution_count": 4,
      "outputs": [
        {
          "output_type": "stream",
          "name": "stdout",
          "text": [
            "            Name            Team  Number Position   Age Height  Weight  \\\n",
            "0  Avery Bradley  Boston Celtics     0.0       PG  25.0    6-2   180.0   \n",
            "1    Jae Crowder  Boston Celtics    99.0       SF  25.0    6-6   235.0   \n",
            "2   John Holland  Boston Celtics    30.0       SG  27.0    6-5   205.0   \n",
            "3    R.J. Hunter  Boston Celtics    28.0       SG  22.0    6-5   185.0   \n",
            "4  Jonas Jerebko  Boston Celtics     8.0       PF  29.0   6-10   231.0   \n",
            "\n",
            "             College     Salary  \n",
            "0              Texas  7730337.0  \n",
            "1          Marquette  6796117.0  \n",
            "2  Boston University        NaN  \n",
            "3      Georgia State  1148640.0  \n",
            "4                NaN  5000000.0  \n",
            "<class 'pandas.core.frame.DataFrame'>\n",
            "RangeIndex: 458 entries, 0 to 457\n",
            "Data columns (total 9 columns):\n",
            " #   Column    Non-Null Count  Dtype  \n",
            "---  ------    --------------  -----  \n",
            " 0   Name      457 non-null    object \n",
            " 1   Team      457 non-null    object \n",
            " 2   Number    457 non-null    float64\n",
            " 3   Position  457 non-null    object \n",
            " 4   Age       457 non-null    float64\n",
            " 5   Height    457 non-null    object \n",
            " 6   Weight    457 non-null    float64\n",
            " 7   College   373 non-null    object \n",
            " 8   Salary    446 non-null    float64\n",
            "dtypes: float64(4), object(5)\n",
            "memory usage: 32.3+ KB\n",
            "None\n",
            "           Number         Age      Weight        Salary\n",
            "count  457.000000  457.000000  457.000000  4.460000e+02\n",
            "mean    17.678337   26.938731  221.522976  4.842684e+06\n",
            "std     15.966090    4.404016   26.368343  5.229238e+06\n",
            "min      0.000000   19.000000  161.000000  3.088800e+04\n",
            "25%      5.000000   24.000000  200.000000  1.044792e+06\n",
            "50%     13.000000   26.000000  220.000000  2.839073e+06\n",
            "75%     25.000000   30.000000  240.000000  6.500000e+06\n",
            "max     99.000000   40.000000  307.000000  2.500000e+07\n"
          ]
        }
      ]
    },
    {
      "cell_type": "code",
      "source": [
        "# Create a dummy second DataFrame\n",
        "df2 = pd.DataFrame({\n",
        "    'Name': ['Stephen Curry', 'LeBron James'],\n",
        "    'Team': ['Golden State Warriors', 'Los Angeles Lakers'],\n",
        "    'Rating': [95, 96]\n",
        "})\n",
        "\n",
        "# Merge on 'Name'\n",
        "merged_df = pd.merge(df, df2, on='Name', how='left')\n",
        "print(merged_df[['Name', 'Team_x', 'Team_y', 'Rating']])\n"
      ],
      "metadata": {
        "colab": {
          "base_uri": "https://localhost:8080/"
        },
        "id": "GgQ0JYHev6zZ",
        "outputId": "02f5a1ac-27ba-4e9e-dd1f-942591597db6"
      },
      "execution_count": 21,
      "outputs": [
        {
          "output_type": "stream",
          "name": "stdout",
          "text": [
            "              Name          Team_x Team_y  Rating\n",
            "0    Avery Bradley  Boston Celtics    NaN     NaN\n",
            "1      Jae Crowder  Boston Celtics    NaN     NaN\n",
            "2     John Holland  Boston Celtics    NaN     NaN\n",
            "3      R.J. Hunter  Boston Celtics    NaN     NaN\n",
            "4    Jonas Jerebko  Boston Celtics    NaN     NaN\n",
            "..             ...             ...    ...     ...\n",
            "453   Shelvin Mack       Utah Jazz    NaN     NaN\n",
            "454      Raul Neto       Utah Jazz    NaN     NaN\n",
            "455   Tibor Pleiss       Utah Jazz    NaN     NaN\n",
            "456    Jeff Withey       Utah Jazz    NaN     NaN\n",
            "457            NaN             NaN    NaN     NaN\n",
            "\n",
            "[458 rows x 4 columns]\n"
          ]
        }
      ]
    },
    {
      "cell_type": "code",
      "source": [
        "# Sort by Age in descending order\n",
        "df_sorted = df.sort_values(by='Age', ascending=False)\n",
        "print(df_sorted)\n"
      ],
      "metadata": {
        "colab": {
          "base_uri": "https://localhost:8080/"
        },
        "id": "lsjAZS948ezp",
        "outputId": "b2614b2c-2e76-48e2-fd18-d521f9a77761"
      },
      "execution_count": 26,
      "outputs": [
        {
          "output_type": "stream",
          "name": "stdout",
          "text": [
            "                   Name                    Team  Number Position   Age Height  \\\n",
            "400       Kevin Garnett  Minnesota Timberwolves    21.0       PF  40.0   6-11   \n",
            "298          Tim Duncan       San Antonio Spurs    21.0        C  40.0   6-11   \n",
            "304        Andre Miller       San Antonio Spurs    24.0       PG  40.0    6-3   \n",
            "261        Vince Carter       Memphis Grizzlies    15.0       SG  39.0    6-6   \n",
            "102      Pablo Prigioni    Los Angeles Clippers     9.0       PG  39.0    6-3   \n",
            "..                  ...                     ...     ...      ...   ...    ...   \n",
            "452          Trey Lyles               Utah Jazz    41.0       PF  20.0   6-10   \n",
            "410  Karl-Anthony Towns  Minnesota Timberwolves    32.0        C  20.0    7-0   \n",
            "226       Rashad Vaughn         Milwaukee Bucks    20.0       SG  19.0    6-6   \n",
            "122        Devin Booker            Phoenix Suns     1.0       SG  19.0    6-6   \n",
            "457                 NaN                     NaN     NaN      NaN   NaN    NaN   \n",
            "\n",
            "     Weight         College     Salary  \n",
            "400   240.0             NaN  8500000.0  \n",
            "298   250.0     Wake Forest  5250000.0  \n",
            "304   200.0            Utah   250750.0  \n",
            "261   220.0  North Carolina  4088019.0  \n",
            "102   185.0             NaN   947726.0  \n",
            "..      ...             ...        ...  \n",
            "452   234.0        Kentucky  2239800.0  \n",
            "410   244.0        Kentucky  5703600.0  \n",
            "226   202.0            UNLV  1733040.0  \n",
            "122   206.0        Kentucky  2127840.0  \n",
            "457     NaN             NaN        NaN  \n",
            "\n",
            "[458 rows x 9 columns]\n"
          ]
        }
      ]
    },
    {
      "cell_type": "code",
      "source": [
        "# Add a new column based on conditions\n",
        "df['Senior_Player'] = df['Age'] > 25\n",
        "print(df)\n"
      ],
      "metadata": {
        "colab": {
          "base_uri": "https://localhost:8080/"
        },
        "id": "tX2LP1XL9bs7",
        "outputId": "f0edb7ae-f4b3-4740-e97d-57be9447f43c"
      },
      "execution_count": 28,
      "outputs": [
        {
          "output_type": "stream",
          "name": "stdout",
          "text": [
            "              Name            Team  Number Position   Age Height  Weight  \\\n",
            "0    Avery Bradley  Boston Celtics     0.0       PG  25.0    6-2   180.0   \n",
            "1      Jae Crowder  Boston Celtics    99.0       SF  25.0    6-6   235.0   \n",
            "2     John Holland  Boston Celtics    30.0       SG  27.0    6-5   205.0   \n",
            "3      R.J. Hunter  Boston Celtics    28.0       SG  22.0    6-5   185.0   \n",
            "4    Jonas Jerebko  Boston Celtics     8.0       PF  29.0   6-10   231.0   \n",
            "..             ...             ...     ...      ...   ...    ...     ...   \n",
            "453   Shelvin Mack       Utah Jazz     8.0       PG  26.0    6-3   203.0   \n",
            "454      Raul Neto       Utah Jazz    25.0       PG  24.0    6-1   179.0   \n",
            "455   Tibor Pleiss       Utah Jazz    21.0        C  26.0    7-3   256.0   \n",
            "456    Jeff Withey       Utah Jazz    24.0        C  26.0    7-0   231.0   \n",
            "457            NaN             NaN     NaN      NaN   NaN    NaN     NaN   \n",
            "\n",
            "               College     Salary  Senior_Player  \n",
            "0                Texas  7730337.0          False  \n",
            "1            Marquette  6796117.0          False  \n",
            "2    Boston University        NaN           True  \n",
            "3        Georgia State  1148640.0          False  \n",
            "4                  NaN  5000000.0           True  \n",
            "..                 ...        ...            ...  \n",
            "453             Butler  2433333.0           True  \n",
            "454                NaN   900000.0          False  \n",
            "455                NaN  2900000.0           True  \n",
            "456             Kansas   947276.0           True  \n",
            "457                NaN        NaN          False  \n",
            "\n",
            "[458 rows x 10 columns]\n"
          ]
        }
      ]
    },
    {
      "cell_type": "code",
      "source": [
        "#filter names with john\n",
        "john_players = df[df['Name'].str.contains('John', case=False, na=False)]\n",
        "\n",
        "print(john_players[['Name', 'Team']])\n"
      ],
      "metadata": {
        "colab": {
          "base_uri": "https://localhost:8080/"
        },
        "id": "8o2TQF37wB6x",
        "outputId": "71e5649b-320b-46db-96bd-6bea0be51166"
      },
      "execution_count": 20,
      "outputs": [
        {
          "output_type": "stream",
          "name": "stdout",
          "text": [
            "                    Name                  Team\n",
            "2           John Holland        Boston Celtics\n",
            "5           Amir Johnson        Boston Celtics\n",
            "65         James Johnson       Toronto Raptors\n",
            "97        Wesley Johnson  Los Angeles Clippers\n",
            "126         John Jenkins          Phoenix Suns\n",
            "192      Stanley Johnson       Detroit Pistons\n",
            "216          John Henson       Milwaukee Bucks\n",
            "222  Johnny O'Bryant III       Milwaukee Bucks\n",
            "291      Orlando Johnson  New Orleans Pelicans\n",
            "344          Joe Johnson            Miami Heat\n",
            "345        Tyler Johnson            Miami Heat\n",
            "382            John Wall    Washington Wizards\n",
            "451        Chris Johnson             Utah Jazz\n"
          ]
        }
      ]
    },
    {
      "cell_type": "code",
      "source": [
        "# Group by Position and compute stats\n",
        "grouped = df.groupby('Position')['Salary'].agg(['mean', 'max', 'count'])\n",
        "\n",
        "# Sort by average salary\n",
        "grouped = grouped.sort_values(by='mean', ascending=False)\n",
        "\n",
        "print(grouped)\n"
      ],
      "metadata": {
        "colab": {
          "base_uri": "https://localhost:8080/"
        },
        "id": "bjm8LeeYw7Sv",
        "outputId": "dd62207a-2014-4a86-f5ef-55cfbd4ec2d0"
      },
      "execution_count": 11,
      "outputs": [
        {
          "output_type": "stream",
          "name": "stdout",
          "text": [
            "                  mean         max  count\n",
            "Position                                 \n",
            "C         5.967052e+06  22359364.0     78\n",
            "PG        5.077829e+06  21468695.0     88\n",
            "SF        4.857393e+06  25000000.0     84\n",
            "PF        4.562483e+06  22192730.0     97\n",
            "SG        4.009861e+06  20000000.0     99\n"
          ]
        }
      ]
    }
  ]
}